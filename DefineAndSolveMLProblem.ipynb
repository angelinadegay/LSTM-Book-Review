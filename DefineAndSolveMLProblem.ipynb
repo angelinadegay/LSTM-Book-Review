{
 "cells": [
  {
   "cell_type": "markdown",
   "metadata": {},
   "source": [
    "# Lab 8: Define and Solve an ML Problem of Your Choosing"
   ]
  },
  {
   "cell_type": "code",
   "execution_count": 2,
   "metadata": {},
   "outputs": [],
   "source": [
    "import pandas as pd\n",
    "import numpy as np\n",
    "import os \n",
    "from sklearn.feature_extraction.text import TfidfVectorizer\n",
    "os.environ[\"TF_CPP_MIN_LOG_LEVEL\"] = \"2\" # suppress info and warning messages\n",
    "import matplotlib.pyplot as plt\n",
    "import seaborn as sns\n",
    "from tensorflow.keras.callbacks import EarlyStopping\n",
    "import time"
   ]
  },
  {
   "cell_type": "markdown",
   "metadata": {},
   "source": [
    "In this lab assignment, you will follow the machine learning life cycle and implement a model to solve a machine learning problem of your choosing. You will select a data set and choose a predictive problem that the data set supports.  You will then inspect the data with your problem in mind and begin to formulate a  project plan. You will then implement the machine learning project plan. \n",
    "\n",
    "You will complete the following tasks:\n",
    "\n",
    "1. Build Your DataFrame\n",
    "2. Define Your ML Problem\n",
    "3. Perform exploratory data analysis to understand your data.\n",
    "4. Define Your Project Plan\n",
    "5. Implement Your Project Plan:\n",
    "    * Prepare your data for your model.\n",
    "    * Fit your model to the training data and evaluate your model.\n",
    "    * Improve your model's performance."
   ]
  },
  {
   "cell_type": "markdown",
   "metadata": {},
   "source": [
    "## Part 1: Build Your DataFrame\n",
    "\n",
    "You will have the option to choose one of four data sets that you have worked with in this program:\n",
    "\n",
    "* The \"census\" data set that contains Census information from 1994: `censusData.csv`\n",
    "* Airbnb NYC \"listings\" data set: `airbnbListingsData.csv`\n",
    "* World Happiness Report (WHR) data set: `WHR2018Chapter2OnlineData.csv`\n",
    "* Book Review data set: `bookReviewsData.csv`\n",
    "\n",
    "Note that these are variations of the data sets that you have worked with in this program. For example, some do not include some of the preprocessing necessary for specific models. \n",
    "\n",
    "#### Load a Data Set and Save it as a Pandas DataFrame\n",
    "\n",
    "The code cell below contains filenames (path + filename) for each of the four data sets available to you.\n",
    "\n",
    "<b>Task:</b> In the code cell below, use the same method you have been using to load the data using `pd.read_csv()` and save it to DataFrame `df`. \n",
    "\n",
    "You can load each file as a new DataFrame to inspect the data before choosing your data set."
   ]
  },
  {
   "cell_type": "code",
   "execution_count": 3,
   "metadata": {},
   "outputs": [
    {
     "data": {
      "text/html": [
       "<div>\n",
       "<style scoped>\n",
       "    .dataframe tbody tr th:only-of-type {\n",
       "        vertical-align: middle;\n",
       "    }\n",
       "\n",
       "    .dataframe tbody tr th {\n",
       "        vertical-align: top;\n",
       "    }\n",
       "\n",
       "    .dataframe thead th {\n",
       "        text-align: right;\n",
       "    }\n",
       "</style>\n",
       "<table border=\"1\" class=\"dataframe\">\n",
       "  <thead>\n",
       "    <tr style=\"text-align: right;\">\n",
       "      <th></th>\n",
       "      <th>Review</th>\n",
       "      <th>Positive Review</th>\n",
       "    </tr>\n",
       "  </thead>\n",
       "  <tbody>\n",
       "    <tr>\n",
       "      <th>0</th>\n",
       "      <td>This was perhaps the best of Johannes Steinhof...</td>\n",
       "      <td>True</td>\n",
       "    </tr>\n",
       "    <tr>\n",
       "      <th>1</th>\n",
       "      <td>This very fascinating book is a story written ...</td>\n",
       "      <td>True</td>\n",
       "    </tr>\n",
       "    <tr>\n",
       "      <th>2</th>\n",
       "      <td>The four tales in this collection are beautifu...</td>\n",
       "      <td>True</td>\n",
       "    </tr>\n",
       "    <tr>\n",
       "      <th>3</th>\n",
       "      <td>The book contained more profanity than I expec...</td>\n",
       "      <td>False</td>\n",
       "    </tr>\n",
       "    <tr>\n",
       "      <th>4</th>\n",
       "      <td>We have now entered a second time of deep conc...</td>\n",
       "      <td>True</td>\n",
       "    </tr>\n",
       "  </tbody>\n",
       "</table>\n",
       "</div>"
      ],
      "text/plain": [
       "                                              Review  Positive Review\n",
       "0  This was perhaps the best of Johannes Steinhof...             True\n",
       "1  This very fascinating book is a story written ...             True\n",
       "2  The four tales in this collection are beautifu...             True\n",
       "3  The book contained more profanity than I expec...            False\n",
       "4  We have now entered a second time of deep conc...             True"
      ]
     },
     "execution_count": 3,
     "metadata": {},
     "output_type": "execute_result"
    }
   ],
   "source": [
    "# File names of the four data sets\n",
    "adultDataSet_filename = os.path.join(os.getcwd(), \"data\", \"censusData.csv\")\n",
    "airbnbDataSet_filename = os.path.join(os.getcwd(), \"data\", \"airbnbListingsData.csv\")\n",
    "WHRDataSet_filename = os.path.join(os.getcwd(), \"data\", \"WHR2018Chapter2OnlineData.csv\")\n",
    "bookReviewDataSet_filename = os.path.join(os.getcwd(), \"data\", \"bookReviewsData.csv\")\n",
    "\n",
    "\n",
    "df = pd.read_csv(bookReviewDataSet_filename)\n",
    "\n",
    "df.head()"
   ]
  },
  {
   "cell_type": "markdown",
   "metadata": {},
   "source": [
    "## Part 2: Define Your ML Problem\n",
    "\n",
    "Next you will formulate your ML Problem. In the markdown cell below, answer the following questions:\n",
    "\n",
    "1. List the data set you have chosen.\n",
    "2. What will you be predicting? What is the label?\n",
    "3. Is this a supervised or unsupervised learning problem? Is this a clustering, classification or regression problem? Is it a binary classificaiton or multi-class classifiction problem?\n",
    "4. What are your features? (note: this list may change after your explore your data)\n",
    "5. Explain why this is an important problem. In other words, how would a company create value with a model that predicts this label?"
   ]
  },
  {
   "cell_type": "markdown",
   "metadata": {},
   "source": [
    "1. I chose the book reviews dataset, where each review is labeled as positive or not positive. This dataset has two columns. The first column is Review that contains string with the user's review. The second column is Positive Review, which is a boolean column, that contains two lables, True for positive reviews and False for negative reviews.\n",
    "2. Exploring this dataset, I will be predicting label, Posititve Review, which shows whether review has a positive sentiment or not positive. \n",
    "3. This is a supervised learning problem, because the dataset includes labeled outputs(True or False), the model is trained on the data that includes correct labels. Because I will assign reviews, which are our inputs, into discrete categories, this is a classification problem. Adding to the last point, we only have two labels true or false, therefore this is a binary classificaion: positive or not positive.\n",
    "4. The main feature is the Review text itself. I plan to preprocess and convert this text into numerical representations using NLP techniques, such as TF-IDF vectorization or word embeddings, to make it suitable for machine learning models.\n",
    "5. First of all, understanding customer reviews is one of the most important aspects of any business. Businesses receive feedbacks in different ways, through surveys or special portals for reviews. However, manually going through each review and figuring out which one is positive and which one isn't is very time-consuming and impractical. The main advatage of AI and ML is automating time-consuming processes, therefore by being able to identify if review is postive can highlight what customers appreciate most about a product or service, while negative reviews can reveal pain points that need improvement. Quickly identifying negative sentiment allows customer support teams to respond fast and prevent potential bad reputation. On the other hand, positive reviews can be used in marketing materials or shared with potential readers as social proof. In industries like hospitality, or publishing, such models are essential for scaling customer insight, improving satisfaction, and making data-driven decisions. Solving this problem provides valuable experience with core NLP techniques, which are foundational in many AI applications today."
   ]
  },
  {
   "cell_type": "markdown",
   "metadata": {},
   "source": [
    "## Part 3: Understand Your Data\n",
    "\n",
    "The next step is to perform exploratory data analysis. Inspect and analyze your data set with your machine learning problem in mind. Consider the following as you inspect your data:\n",
    "\n",
    "1. What data preparation techniques would you like to use? These data preparation techniques may include:\n",
    "\n",
    "    * addressing missingness, such as replacing missing values with means\n",
    "    * finding and replacing outliers\n",
    "    * renaming features and labels\n",
    "    * finding and replacing outliers\n",
    "    * performing feature engineering techniques such as one-hot encoding on categorical features\n",
    "    * selecting appropriate features and removing irrelevant features\n",
    "    * performing specific data cleaning and preprocessing techniques for an NLP problem\n",
    "    * addressing class imbalance in your data sample to promote fair AI\n",
    "    \n",
    "\n",
    "2. What machine learning model (or models) you would like to use that is suitable for your predictive problem and data?\n",
    "    * Are there other data preparation techniques that you will need to apply to build a balanced modeling data set for your problem and model? For example, will you need to scale your data?\n",
    " \n",
    " \n",
    "3. How will you evaluate and improve the model's performance?\n",
    "    * Are there specific evaluation metrics and methods that are appropriate for your model?\n",
    "    \n",
    "\n",
    "Think of the different techniques you have used to inspect and analyze your data in this course. These include using Pandas to apply data filters, using the Pandas `describe()` method to get insight into key statistics for each column, using the Pandas `dtypes` property to inspect the data type of each column, and using Matplotlib and Seaborn to detect outliers and visualize relationships between features and labels. If you are working on a classification problem, use techniques you have learned to determine if there is class imbalance.\n",
    "\n",
    "<b>Task</b>: Use the techniques you have learned in this course to inspect and analyze your data. You can import additional packages that you have used in this course that you will need to perform this task.\n",
    "\n",
    "<b>Note</b>: You can add code cells if needed by going to the <b>Insert</b> menu and clicking on <b>Insert Cell Below</b> in the drop-drown menu."
   ]
  },
  {
   "cell_type": "markdown",
   "metadata": {},
   "source": [
    "Because text classification is an NLP task, I used a mix of basic data cleaning along with NLP-specific techniques. First, I started by examining the shape of the dataset to understand the number of samples and features. This step is important because it helps determine which models and preprocessing techniques are appropriate given the data's dimensions and structure. I also wanted to see what data types I am working with, so I used the command df.info() to explore and found that the first column is object (text) and the second column is boolean (sentiment labels).\n",
    "Next, I checked for missing values to ensure the dataset was complete. Since there were no missing entries in either the review text or label columns, I didn't need to apply imputation or removal techniques. I then analyzed class distribution to detect any imbalance, as class imbalance can lead to biased models. This dataset was nearly perfectly balanced between positive and negative reviews (balance ratio: 0.987), so resampling techniques like oversampling or undersampling were not needed.\n",
    "\n",
    "I also looked fot potential duplicates in the dataset, initially finding what appeared to be 108 duplicate reviews. However, with closer inspection, these were actually unique reviews with different content, likely flagged due to formatting differences. I decided to keep all reviews to maximize training data.\n",
    "\n",
    "I created additional features to better understand the text characteristics, such as review length (in words), character count, exclamation marks, and question marks. I performed correlation analysis between these self-engineered features and positive sentiment, finding weak correlations (ranging from -0.013 to -0.139). This confirmed that simple statistical features wouldn't be sufficient for classification,which supported my choice of a deep learning approach that can automatically learn complex text patterns.\n",
    "\n",
    "I did outlier analysis and found that 8.5% of reviews (168 out of 1,973) exceeded 369 words, with some reaching over 5,000 words. Rather than removing these outliers, I decided to handle them through truncation during preprocessing. In this data long rveiews are rare and tend to be repetitive, therefore I think this tradeoff is acceptable.\n",
    "\n",
    "I manually inspected samples from both positive and negative reviews to gain insights into the dataset. The negative reviews were actually longer on average (174 words) compared to positive reviews (148 words), suggesting that readers that are not happy tend to provide more detailed explanations of their concerns.\n",
    "\n",
    "I also performed percentile analysis of review lengths. This analysis showed that setting a maximum input length of 300-400 tokens would capture approximately 90-95% of reviews without too much padding or truncation.\n",
    "\n",
    "Based on this analysis, I selected an LSTM neural network as my model because traditional machine learning approaches would be insufficient given the weak feature correlations, and LSTM's sequential processing capabilities are ideal for text classification. For evaluation, I will use accuracy, precision, recall, and F1-score, with accuracy being most appropriate given the balanced class distribution. No feature scaling is needed as the embedding layer will handle numerical representation of text tokens. \n",
    "\n",
    "However, I also want to compare the LSTM model to the performance of TF-IDF + FNN, because LSTM performance might not be the best for the smaller data sets. "
   ]
  },
  {
   "cell_type": "code",
   "execution_count": 4,
   "metadata": {},
   "outputs": [
    {
     "name": "stdout",
     "output_type": "stream",
     "text": [
      "Shape of data (1973, 2)\n",
      "<class 'pandas.core.frame.DataFrame'>\n",
      "RangeIndex: 1973 entries, 0 to 1972\n",
      "Data columns (total 2 columns):\n",
      " #   Column           Non-Null Count  Dtype \n",
      "---  ------           --------------  ----- \n",
      " 0   Review           1973 non-null   object\n",
      " 1   Positive Review  1973 non-null   bool  \n",
      "dtypes: bool(1), object(1)\n",
      "memory usage: 17.5+ KB\n"
     ]
    }
   ],
   "source": [
    "# YOUR CODE HERE\n",
    "print(\"Shape of data\", df.shape)\n",
    "df.info()"
   ]
  },
  {
   "cell_type": "code",
   "execution_count": 5,
   "metadata": {},
   "outputs": [
    {
     "data": {
      "text/html": [
       "<div>\n",
       "<style scoped>\n",
       "    .dataframe tbody tr th:only-of-type {\n",
       "        vertical-align: middle;\n",
       "    }\n",
       "\n",
       "    .dataframe tbody tr th {\n",
       "        vertical-align: top;\n",
       "    }\n",
       "\n",
       "    .dataframe thead th {\n",
       "        text-align: right;\n",
       "    }\n",
       "</style>\n",
       "<table border=\"1\" class=\"dataframe\">\n",
       "  <thead>\n",
       "    <tr style=\"text-align: right;\">\n",
       "      <th></th>\n",
       "      <th>Review</th>\n",
       "      <th>Positive Review</th>\n",
       "    </tr>\n",
       "  </thead>\n",
       "  <tbody>\n",
       "    <tr>\n",
       "      <th>count</th>\n",
       "      <td>1973</td>\n",
       "      <td>1973</td>\n",
       "    </tr>\n",
       "    <tr>\n",
       "      <th>unique</th>\n",
       "      <td>1865</td>\n",
       "      <td>2</td>\n",
       "    </tr>\n",
       "    <tr>\n",
       "      <th>top</th>\n",
       "      <td>I have read several of Hiaasen's books and lov...</td>\n",
       "      <td>False</td>\n",
       "    </tr>\n",
       "    <tr>\n",
       "      <th>freq</th>\n",
       "      <td>3</td>\n",
       "      <td>993</td>\n",
       "    </tr>\n",
       "  </tbody>\n",
       "</table>\n",
       "</div>"
      ],
      "text/plain": [
       "                                                   Review Positive Review\n",
       "count                                                1973            1973\n",
       "unique                                               1865               2\n",
       "top     I have read several of Hiaasen's books and lov...           False\n",
       "freq                                                    3             993"
      ]
     },
     "execution_count": 5,
     "metadata": {},
     "output_type": "execute_result"
    }
   ],
   "source": [
    "df.describe()"
   ]
  },
  {
   "cell_type": "code",
   "execution_count": 6,
   "metadata": {},
   "outputs": [
    {
     "name": "stdout",
     "output_type": "stream",
     "text": [
      "Missing values Review             0\n",
      "Positive Review    0\n",
      "dtype: int64\n",
      "False    993\n",
      "True     980\n",
      "Name: Positive Review, dtype: int64\n"
     ]
    }
   ],
   "source": [
    "print(\"Missing values\", df.isnull().sum())\n",
    "print(df['Positive Review'].value_counts())"
   ]
  },
  {
   "cell_type": "markdown",
   "metadata": {},
   "source": [
    "There are no missing values, which makes preprocessing easier. We have 980 positive reviews and 993 negative reviews, which means balanced class distribution, I have a cell in the future that demonstrates the results."
   ]
  },
  {
   "cell_type": "code",
   "execution_count": 7,
   "metadata": {},
   "outputs": [
    {
     "data": {
      "image/png": "[encoded data removed]",
      "text/plain": [
       "<Figure size 640x480 with 1 Axes>"
      ]
     },
     "metadata": {},
     "output_type": "display_data"
    }
   ],
   "source": [
    "sns.countplot(data = df, x = 'Positive Review')\n",
    "plt.title('Distribution of classes')\n",
    "plt.show()"
   ]
  },
  {
   "cell_type": "code",
   "execution_count": 8,
   "metadata": {},
   "outputs": [
    {
     "name": "stdout",
     "output_type": "stream",
     "text": [
      "Class balance ratio: 0.987\n"
     ]
    }
   ],
   "source": [
    "posit = df['Positive Review'].sum()\n",
    "neg = len(df) - posit\n",
    "balance_ratio = min(posit, neg) / max(posit, neg)\n",
    "print(f\"Class balance ratio: {balance_ratio:.3f}\")"
   ]
  },
  {
   "cell_type": "code",
   "execution_count": 9,
   "metadata": {},
   "outputs": [
    {
     "data": {
      "image/png": "[encoded data removed]",
      "text/plain": [
       "<Figure size 1200x500 with 2 Axes>"
      ]
     },
     "metadata": {},
     "output_type": "display_data"
    },
    {
     "name": "stdout",
     "output_type": "stream",
     "text": [
      "Review length by sentiment:\n",
      "                 count        mean         std   min   25%    50%    75%  \\\n",
      "Positive Review                                                            \n",
      "False            993.0  173.978852  284.432936  12.0  62.0  112.0  201.0   \n",
      "True             980.0  147.734694  173.189892  11.0  57.0   96.0  172.0   \n",
      "\n",
      "                    max  \n",
      "Positive Review          \n",
      "False            5167.0  \n",
      "True             2924.0  \n"
     ]
    }
   ],
   "source": [
    "df['rev_length'] = df['Review'].apply(lambda x: len(str(x).split()))\n",
    "plt.figure(figsize=(12, 5))\n",
    "\n",
    "plt.subplot(1, 2, 1)\n",
    "sns.boxplot(data=df, x='Positive Review', y='rev_length')\n",
    "plt.title('Review Length by Sentiment')\n",
    "\n",
    "plt.subplot(1, 2, 2)\n",
    "sns.histplot(data=df, x='rev_length', hue='Positive Review', bins=30, alpha=0.7)\n",
    "plt.title('Review Length Distribution by Sentiment')\n",
    "plt.tight_layout()\n",
    "plt.show()\n",
    "\n",
    "print(\"Review length by sentiment:\")\n",
    "print(df.groupby('Positive Review')['rev_length'].describe())"
   ]
  },
  {
   "cell_type": "markdown",
   "metadata": {},
   "source": [
    "Left plot:\n",
    "Most reviews, both positive and negative, fall within a similar range, but there are significant outliers in both categories. One negative review extends beyond 5000 tokens, which is far beyond the interquartile range and likely to skew analysis or affect model input if not properly handled.\n",
    "\n",
    "Right plot:\n",
    "The majority of reviews are short, clustering under 300 words, with a steep drop-off in frequency as the length increases. Extremely long reviews are rare, and the data is right-skewed."
   ]
  },
  {
   "cell_type": "code",
   "execution_count": 10,
   "metadata": {},
   "outputs": [
    {
     "name": "stdout",
     "output_type": "stream",
     "text": [
      "         char_count   word_count  exclamation_count  question_count\n",
      "count   1973.000000  1973.000000        1973.000000     1973.000000\n",
      "mean     933.336036   160.943234           0.435884        0.364420\n",
      "std     1450.187183   236.136329           1.375152        1.098815\n",
      "min       59.000000    11.000000           0.000000        0.000000\n",
      "25%      331.000000    59.000000           0.000000        0.000000\n",
      "50%      586.000000   103.000000           0.000000        0.000000\n",
      "75%     1065.000000   183.000000           0.000000        0.000000\n",
      "max    32467.000000  5167.000000          24.000000       12.000000\n"
     ]
    }
   ],
   "source": [
    "df['char_count'] = df['Review'].str.len()\n",
    "df['word_count'] = df['Review'].str.split().str.len()\n",
    "df['exclamation_count'] = df['Review'].str.count('!')\n",
    "df['question_count'] = df['Review'].str.count('\\?')\n",
    "print(df[['char_count', 'word_count', 'exclamation_count', 'question_count']].describe())"
   ]
  },
  {
   "cell_type": "markdown",
   "metadata": {},
   "source": [
    "The punctuation marks like exclamations and questions are relatively rare, with median values of zero. However, max values indicate emotions in some reviews."
   ]
  },
  {
   "cell_type": "code",
   "execution_count": 11,
   "metadata": {},
   "outputs": [
    {
     "name": "stdout",
     "output_type": "stream",
     "text": [
      "Positive reviews:\n",
      "Length: 71 words\n",
      "Text: I'm amazed that people didn't like this book more... I am also a Land Arch student who had it as an assigned book that was rarely actually assigned.  I was thumbing through it in hopes of generating i...\n",
      "\n",
      "Length: 86 words\n",
      "Text: I have read every Hiaasen novel, except \"Flush\" and \"Naked Came the Manatee.\" I have enjoyed reading almost every one of them [There are exceptions -- \"Basket Case\" definitely was not up to the mark, ...\n",
      "\n",
      "Length: 71 words\n",
      "Text: I started with the second volume, The Mammoth Book of More Historical Whodunnits, and enjoyed it so much that I went out and got a copy of this one as well.  I really liked the time-span of story sett...\n",
      "\n",
      "Negative reviews:\n",
      "Length: 88 words\n",
      "Text: I am a woman and was extremely offended at the portrayel of Black men in this book and in the movie.  The work offers NO BALANCE whatsoever which feels like a slap in the face.  One Black male in this...\n",
      "\n",
      "Length: 143 words\n",
      "Text: This book is more of an advertisement for Scoblete's other books, his writing buddies other books, and his golden touch craps siminar. This book gives no mention of how the reader can acomplish dice c...\n",
      "\n",
      "Length: 136 words\n",
      "Text: check out page 67 of the book for a basic reason why this book is useless:\n",
      "an entire page of a ftp session downloading openldap.  huh?  How is this helpful?  getting the right version of BerkeleyDB an...\n",
      "\n"
     ]
    }
   ],
   "source": [
    "print(\"Positive reviews:\")\n",
    "positive_samples = df[df['Positive Review'] == True].sample(3)\n",
    "for idx, row in positive_samples.iterrows():\n",
    "    print(f\"Length: {row['rev_length']} words\")\n",
    "    print(f\"Text: {row['Review'][:200]}...\\n\")\n",
    "\n",
    "print(\"Negative reviews:\")\n",
    "negative_samples = df[df['Positive Review'] == False].sample(3)\n",
    "for idx, row in negative_samples.iterrows():\n",
    "    print(f\"Length: {row['rev_length']} words\")\n",
    "    print(f\"Text: {row['Review'][:200]}...\\n\")"
   ]
  },
  {
   "cell_type": "markdown",
   "metadata": {},
   "source": [
    "By looking at the samples, positive reviews tend to be shorter, straightforward, and appreciative.  Negative reviews are often longer which shows that negative emotions usually expressed with more details."
   ]
  },
  {
   "cell_type": "code",
   "execution_count": 12,
   "metadata": {},
   "outputs": [
    {
     "name": "stdout",
     "output_type": "stream",
     "text": [
      "Correlation with positive sentiment:\n",
      "rev_length: -0.056\n",
      "char_count: -0.050\n",
      "word_count: -0.056\n",
      "exclamation_count: -0.013\n",
      "question_count: -0.139\n"
     ]
    },
    {
     "data": {
      "image/png": "[encoded data removed]",
      "text/plain": [
       "<Figure size 800x600 with 1 Axes>"
      ]
     },
     "metadata": {},
     "output_type": "display_data"
    }
   ],
   "source": [
    "df['sentiment_numeric'] = df['Positive Review'].astype(int)\n",
    "features =['rev_length', 'char_count', 'word_count', 'exclamation_count', 'question_count']\n",
    "correlations = df[features].corrwith(df['sentiment_numeric'])\n",
    "print(\"Correlation with positive sentiment:\")\n",
    "for feature, corr in correlations.items():\n",
    "    print(f\"{feature}: {corr:.3f}\")\n",
    "\n",
    "plt.figure(figsize=(8, 6))\n",
    "correlations.plot(kind='bar')\n",
    "plt.title('Feature Correlations with Positive Sentiment')\n",
    "plt.xticks(rotation=45)\n",
    "plt.tight_layout()\n",
    "plt.show()"
   ]
  },
  {
   "cell_type": "markdown",
   "metadata": {},
   "source": [
    "Bar plot of these correlations confirms that no single feature is a strong predictor."
   ]
  },
  {
   "cell_type": "code",
   "execution_count": 13,
   "metadata": {},
   "outputs": [
    {
     "name": "stdout",
     "output_type": "stream",
     "text": [
      "Length Parameter Estimation\n",
      "Max review length: 5167 words\n",
      "95th percentile length: 475 words\n",
      "99th percentile length: 853 words\n",
      "50th percentile: 103 words\n",
      "90th percentile: 331 words\n",
      "95th percentile: 475 words\n",
      "99th percentile: 853 words\n"
     ]
    }
   ],
   "source": [
    "print(\"Length Parameter Estimation\")\n",
    "print(f\"Max review length: {df['rev_length'].max()} words\")\n",
    "print(f\"95th percentile length: {df['rev_length'].quantile(0.95):.0f} words\")\n",
    "print(f\"99th percentile length: {df['rev_length'].quantile(0.99):.0f} words\")\n",
    "\n",
    "percentiles = [50,90, 95, 99]\n",
    "for p in percentiles:\n",
    "    length = df['rev_length'].quantile(p/100)\n",
    "    coverage = (df['rev_length'] <= length).mean() * 100\n",
    "    print(f\"{p}th percentile: {length:.0f} words\")"
   ]
  },
  {
   "cell_type": "code",
   "execution_count": 14,
   "metadata": {},
   "outputs": [
    {
     "name": "stdout",
     "output_type": "stream",
     "text": [
      "Outliers : 168 (8.5%)\n"
     ]
    }
   ],
   "source": [
    "Q1 = df['rev_length'].quantile(0.25)\n",
    "Q3 = df['rev_length'].quantile(0.75)\n",
    "IQR = Q3 - Q1\n",
    "upper_bound = Q3 + 1.5 * IQR\n",
    "\n",
    "outliers = df[df['rev_length'] > upper_bound]\n",
    "print(f\"Outliers : {len(outliers)} ({len(outliers)/len(df)*100:.1f}%)\")"
   ]
  },
  {
   "cell_type": "markdown",
   "metadata": {},
   "source": [
    "About 8.5% of the reviews are outliers in terms of length, they will be truncated."
   ]
  },
  {
   "cell_type": "markdown",
   "metadata": {},
   "source": [
    "## Part 4: Define Your Project Plan\n",
    "\n",
    "Now that you understand your data, in the markdown cell below, define your plan to implement the remaining phases of the machine learning life cycle (data preparation, modeling, evaluation) to solve your ML problem. Answer the following questions:\n",
    "\n",
    "* Do you have a new feature list? If so, what are the features that you chose to keep and remove after inspecting the data? \n",
    "* Explain different data preparation techniques that you will use to prepare your data for modeling.\n",
    "* What is your model (or models)?\n",
    "* Describe your plan to train your model, analyze its performance and then improve the model. That is, describe your model building, validation and selection plan to produce a model that generalizes well to new data. "
   ]
  },
  {
   "cell_type": "markdown",
   "metadata": {},
   "source": [
    "This dataset only has two columns: Review and Positive Review, other features that I engineered did not have any correlation with the label, therefore I will focus only on the Positive review column which will be the label and the review itself as feature. The goal is to preprocess review text effectively for modeling.\n",
    "Because I am doing the NLP classification task, all review text was converted to lowercase to ensure consistency, so \"Bad\" and \"bad\" will be treated the same way. This technique reduces vocabulary size while preserving meaning, which is very important for LSTMs because they benefit from consistent input. LSTMs are designed to handle sequential patterns and context, so they can often learn to deal with word variations and punctuation naturally, therefore it is important to be careful with additional preprocessing.\n",
    "I did the usual split using train_test_split with 80/20 proportion.\n",
    "\n",
    "I followed tokenization documenation, to figure out how to preprocess words,  I used Keras' Tokenizer with a num_words=10000 limit to focus on the top 10k most frequent words. The documentaion also recommended to have oov_token (<OOV>) set to handle out-of-vocabulary words during testing. Text was converted into sequences of integer indices using the fitted tokenizer. The tokenization process converts each review from raw text into sequences of integer indices, where each integer corresponds to a specific word in the learned vocabulary. \n",
    "\n",
    " Neural networks require fixed-size inputs, I padded all input at a certain length. I chose 350 tokens as the maximum sequence length because it balanced model performance with computational efficiency. Initially, a maximum length of 400 tokens was tested, but this resulted in significant overfitting, which showed that the longer sequences were allowing the model to memorize training-specific patterns rather than learning generalizable sentiment features.\n",
    " \n",
    "The padding strategy uses 'post' padding, which adds zeros to the end of shorter sequences, and 'post' truncation, which removes tokens from the end of longer sequences. This approach preserves the beginning of each review, which often contains the most important information. During the optimization process I found out that the 350-token limit demonstrates the importance of hyperparameter tuning in preventing overfitting while maintaining sufficient sequence length to capture meaning. \n",
    "\n",
    "My idea is to train a Bidirectional LSTM-based neural network architecture specifically tailored for binary sentiment classification. My model will consist of several key components that work together to capture both sequential patterns and semantic meaning from the review text. The architecture begins with an embedding layer that converts integer token sequences into dense vectors, allowing the model to learn  representations of words in the context of sentiment analysis. I chose an embedding dimension of 128  to capture semantic relationships while remaining computationally efficient for my vocabulary size of approximately 10,000 words. I will explore different combination of hyperparameters, and even try to explore regular neural network, not bidirectional one. The bidirectional approach is very important because it allows the model to consider both past and future context when making predictions about any given word. For example, in a phrase like \"not good,\" the bidirectional processing helps the model understand that \"good\" should be interpreted negatively due to \"not.\" Following the LSTM layer, I will add dense hidden layer or layers with ReLU activation.  I will incorporate dropout layers before the final output layer. \n",
    "\n",
    "I plan to use the Adam optimizer for training, because I learned in one of my classes that it typically provides faster convergence and better performance than SGD and because in our previous assigment we used SGD, I want to experiemnt. For the loss function, I will use binary cross-entropy, which is the standard choice for binary classification problems. I intend to implement a validation strategy by splitting my training data further to create a validation set that will help me keep track of model performance during training and detect overfitting early. My training approach will include implementing early stopping to prevent overfitting by looking validation loss and stopping training when performance begins to get worse, I will follow the documentaion. I plan to experiment with different batch sizes to find the optimal one.\n",
    "\n",
    "Given the complexity of neural networks and the potential for overfitting in NLP tasks, I plan to implement some regularization techniques. I intend to incorporate dropout layers throughout the network and I also plan to use recurrent dropout specifically for the LSTM layers, which applies dropout to the recurrent connections. I also want to experiment with L2 regularization on the dense layers to penalize large weights and encourage the model to generalize better. I will also consider adjusting the sequence length parameter if I observe overfitting, as shorter sequences might help the model focus on the most relevant content while reducing noise from potentially irrelevant longer text segments. \n",
    "\n",
    "I am going to look at both training and validation metrics though the trainig process to find optimal stopping point and track overfitting behaviour. I am going to look at precision, recall, f1-score ad  ROC-AUC analysis to undertsand classification perfromance. My model selection process will be based on performance evaluation with attention to the generalization gap between training and validation performance."
   ]
  },
  {
   "cell_type": "markdown",
   "metadata": {},
   "source": [
    "## Part 5: Implement Your Project Plan\n",
    "\n",
    "<b>Task:</b> In the code cell below, import additional packages that you have used in this course that you will need to implement your project plan."
   ]
  },
  {
   "cell_type": "code",
   "execution_count": 15,
   "metadata": {},
   "outputs": [],
   "source": [
    "# YOUR CODE HERE\n",
    "from tensorflow.keras.preprocessing.text import Tokenizer\n",
    "import tensorflow.keras as keras\n",
    "from tensorflow.keras.preprocessing.sequence import pad_sequences\n",
    "from tensorflow.keras.models import Sequential\n",
    "from tensorflow.keras.layers import LSTM, Dense, Dropout, Bidirectional\n",
    "from sklearn.model_selection import train_test_split\n",
    "from tensorflow.keras.optimizers import Adam"
   ]
  },
  {
   "cell_type": "markdown",
   "metadata": {},
   "source": [
    "<b>Task:</b> Use the rest of this notebook to carry out your project plan. \n",
    "\n",
    "You will:\n",
    "\n",
    "1. Prepare your data for your model.\n",
    "2. Fit your model to the training data and evaluate your model.\n",
    "3. Improve your model's performance by performing model selection and/or feature selection techniques to find best model for your problem.\n",
    "\n",
    "Add code cells below and populate the notebook with commentary, code, analyses, results, and figures as you see fit. "
   ]
  },
  {
   "cell_type": "code",
   "execution_count": 16,
   "metadata": {},
   "outputs": [
    {
     "name": "stdout",
     "output_type": "stream",
     "text": [
      "Shape of X: (1973,)\n",
      "Shape of y: (1973,)\n"
     ]
    }
   ],
   "source": [
    "y = df[\"Positive Review\"].astype(int)\n",
    "X = df[\"Review\"]  \n",
    "print(\"Shape of X:\", X.shape)\n",
    "print(\"Shape of y:\", y.shape)"
   ]
  },
  {
   "cell_type": "markdown",
   "metadata": {},
   "source": [
    "As I mentioned in the analysis, label is Positive Review column and the feature column is Review column."
   ]
  },
  {
   "cell_type": "code",
   "execution_count": 17,
   "metadata": {},
   "outputs": [
    {
     "data": {
      "text/plain": [
       "(1578,)"
      ]
     },
     "execution_count": 17,
     "metadata": {},
     "output_type": "execute_result"
    }
   ],
   "source": [
    "X_train , X_test, y_train, y_test = train_test_split(X,y, test_size = 0.2, random_state = 1234)\n",
    "X_train.shape"
   ]
  },
  {
   "cell_type": "markdown",
   "metadata": {},
   "source": [
    "I have 1578 samples and 395 test samples, the sample size is  reasonable however it migh cause some overfitting with LSTMs, which I will try to address."
   ]
  },
  {
   "cell_type": "code",
   "execution_count": 18,
   "metadata": {},
   "outputs": [],
   "source": [
    "def preprocess(text):\n",
    "    text = text.lower()\n",
    "    return text\n",
    "X_train_pr = X_train.apply(preprocess)\n",
    "X_test_pr = X_test.apply(preprocess)"
   ]
  },
  {
   "cell_type": "markdown",
   "metadata": {},
   "source": [
    "The original vocabulary contains 20,361 unique words, indicating a rich and diverse set of reviews with substantial lexical variety. However, the decision to limit the model vocabulary to 10,000 words represents a trade-off between computational and semantic coverage. \n",
    "The large vocabulary size suggests that many words appear very infrequently, making the 10,000-word limit a reasonable choice for focusing on the terms with the most information. "
   ]
  },
  {
   "cell_type": "markdown",
   "metadata": {},
   "source": [
    "All training sequences have been standardized to exactly 400 tokens, with post-padding and post-truncation applied. This is essential for neural network processing but at the same time represents another potential source of information loss for reviews longer than 350 tokens. I sexpliored 400 and 450 and both numbers resulted in overfitting therefore I decided to stick with 350.\n",
    "\n",
    "I was following this documentation: https://www.tensorflow.org/api_docs/python/tf/keras/preprocessing/text/Tokenizer"
   ]
  },
  {
   "cell_type": "code",
   "execution_count": 19,
   "metadata": {},
   "outputs": [
    {
     "name": "stdout",
     "output_type": "stream",
     "text": [
      "Training sequences shape: (1578, 350)\n",
      "Test sequences shape: (395, 350)\n",
      "Vocabulary size: 20361\n",
      "Actual vocabulary size for model: 10000\n"
     ]
    }
   ],
   "source": [
    "tokenizer = Tokenizer(num_words = 10000, oov_token = '<OOV>')\n",
    "tokenizer.fit_on_texts(X_train_pr)\n",
    "X_train_seq = tokenizer.texts_to_sequences(X_train_pr)\n",
    "X_test_seq = tokenizer.texts_to_sequences(X_test_pr)\n",
    "\n",
    "\n",
    "max_length = 350\n",
    "X_train_padded = pad_sequences(X_train_seq, maxlen = max_length, padding = 'post', truncating = 'post')\n",
    "X_test_padded = pad_sequences(X_test_seq, maxlen=max_length, padding='post', truncating='post')\n",
    "\n",
    "print(f\"Training sequences shape: {X_train_padded.shape}\")\n",
    "print(f\"Test sequences shape: {X_test_padded.shape}\")\n",
    "print(f\"Vocabulary size: {len(tokenizer.word_index)}\")\n",
    "vocab_size = min(len(tokenizer.word_index) + 1, 10000) \n",
    "print(f\"Actual vocabulary size for model: {vocab_size}\")"
   ]
  },
  {
   "cell_type": "markdown",
   "metadata": {},
   "source": [
    "The model starts with an Embedding layer that maps each word in the vocabulary to a dense vector of 128 dimensions, using an input length of 400 tokens to represent each review. After this layer, I used a Bidirectional LSTM layer with 64 hidden units to capture context from both directions in the text. To avoid overfitting, I applied both dropout and recurrent dropout, each set to 0.3. After the LSTM, I included a Dense hidden layer with 32 units and a ReLU activation function, followed by a dropout of 0.5. I also experimented with adding a second hidden layer (h2) with 16 units and additional dropout, but this led to noticeable overfitting, training accuracy continued to rise while validation performance declined. The final output layer is a single neuron with sigmoid activation, suitable for binary classification. This model had a good starting performance, this configuration showed signs of memorizing the training data too quickly and overfit.\n",
    "\n",
    "I also tried to use regular LSTM but the model was significantly underfitting, I swapped that model with the bidirectional, however I still have the results, I will share two last epochs:\n",
    "\n",
    "Epoch 5/15\n",
    "40/40 [==============================] - 8s 209ms/step - loss: 0.6652 - accuracy: 0.5349 - val_loss: 0.7017 - val_accuracy: 0.5032\n",
    "Epoch [5/ 15], Loss: 0.6652, Accuracy: 0.5349, Val_loss: 0.7017, Val_accuracy: 0.5032\n",
    "\n",
    "Epoch 6/15\n",
    "40/40 [==============================] - 8s 209ms/step - loss: 0.6542 - accuracy: 0.5452 - val_loss: 0.6966 - val_accuracy: 0.5000\n",
    "Restoring model weights from the end of the best epoch.\n",
    "Epoch [6/ 15], Loss: 0.6542, Accuracy: 0.5452, Val_loss: 0.6966, Val_accuracy: 0.5000\n",
    "Epoch 00006: early stopping\n",
    "Elapsed time: 51.69s\n",
    "\n",
    "It is clear that regular LSTM is struggling to capture the patterns effectively."
   ]
  },
  {
   "cell_type": "code",
   "execution_count": 20,
   "metadata": {},
   "outputs": [],
   "source": [
    "nn_model = keras.Sequential()\n",
    "embedding_layer = keras.layers.Embedding(input_dim = vocab_size, output_dim = 128, input_length = 400)\n",
    "nn_model.add(embedding_layer)\n",
    "\n",
    "lstm_layer = Bidirectional(keras.layers.LSTM(units = 64, dropout = 0.3, recurrent_dropout = 0.3))\n",
    "nn_model.add(lstm_layer)\n",
    "\n",
    "h1_layer = keras.layers.Dense(32, activation = 'relu')\n",
    "nn_model.add(h1_layer)\n",
    "nn_model.add(keras.layers.Dropout(0.5))\n",
    "\n",
    "#h2_layer = keras.layers.Dense(16, activation = 'relu')\n",
    "#nn_model.add(h2_layer)\n",
    "#nn_model.add(keras.layers.Dropout(0.3))\n",
    "\n",
    "\n",
    "output_layer = keras.layers.Dense(1, activation='sigmoid')\n",
    "nn_model.add(output_layer)"
   ]
  },
  {
   "cell_type": "code",
   "execution_count": 21,
   "metadata": {},
   "outputs": [],
   "source": [
    "from tensorflow.keras import regularizers"
   ]
  },
  {
   "cell_type": "markdown",
   "metadata": {},
   "source": [
    "The second model I built had better generalization and performance, still had some overfitting. It follows a similar sequential architecture but with some chnages. The Embedding layer maps input words to 128-dimensional vectors, and the input length was reduced to 350 tokens, which helped eliminate excessively long reviews (some over 5000 words). For sequence modeling, I used a Bidirectional LSTM layer with 32 hidden units, paired with both dropout and recurrent dropout rates of 0.5 to reduce overfitting. Then, a Dense layer with 16 units and ReLU activation, which included L2 regularization and was followed by an additional 0.5 dropout layer. The final output layer was a single neuron with sigmoid activation to support binary classification. I compiled the model using the Adam optimizer with a learning rate of 0.001, which offered stable convergence. I will use this model for my analysis."
   ]
  },
  {
   "cell_type": "code",
   "execution_count": 22,
   "metadata": {},
   "outputs": [],
   "source": [
    "nn_model2 = keras.Sequential()\n",
    "embedding_layer = keras.layers.Embedding(input_dim = vocab_size, output_dim = 128, input_length = 350)\n",
    "nn_model2.add(embedding_layer)\n",
    "\n",
    "lstm_layer = Bidirectional(keras.layers.LSTM(units = 32, dropout = 0.5, recurrent_dropout = 0.5))\n",
    "nn_model2.add(lstm_layer)\n",
    "\n",
    "h12_layer = keras.layers.Dense(16, activation='relu',kernel_regularizer=regularizers.l2(0.01))\n",
    "nn_model2.add(h12_layer)\n",
    "nn_model2.add(keras.layers.Dropout(0.5))\n",
    "\n",
    "\n",
    "output_layer = keras.layers.Dense(1, activation='sigmoid')\n",
    "nn_model2.add(output_layer)"
   ]
  },
  {
   "cell_type": "code",
   "execution_count": 23,
   "metadata": {},
   "outputs": [],
   "source": [
    "optimizer = Adam(learning_rate=0.0005)"
   ]
  },
  {
   "cell_type": "code",
   "execution_count": 24,
   "metadata": {},
   "outputs": [],
   "source": [
    "nn_model2.compile(\n",
    "    optimizer=optimizer,\n",
    "    loss='binary_crossentropy',\n",
    "    metrics=['accuracy']\n",
    ")"
   ]
  },
  {
   "cell_type": "code",
   "execution_count": 25,
   "metadata": {},
   "outputs": [
    {
     "name": "stdout",
     "output_type": "stream",
     "text": [
      "Model: \"sequential_1\"\n",
      "_________________________________________________________________\n",
      "Layer (type)                 Output Shape              Param #   \n",
      "=================================================================\n",
      "embedding_1 (Embedding)      (None, 350, 128)          1280000   \n",
      "_________________________________________________________________\n",
      "bidirectional_1 (Bidirection (None, 64)                41216     \n",
      "_________________________________________________________________\n",
      "dense_2 (Dense)              (None, 16)                1040      \n",
      "_________________________________________________________________\n",
      "dropout_1 (Dropout)          (None, 16)                0         \n",
      "_________________________________________________________________\n",
      "dense_3 (Dense)              (None, 1)                 17        \n",
      "=================================================================\n",
      "Total params: 1,322,273\n",
      "Trainable params: 1,322,273\n",
      "Non-trainable params: 0\n",
      "_________________________________________________________________\n"
     ]
    }
   ],
   "source": [
    "nn_model2.summary()"
   ]
  },
  {
   "cell_type": "markdown",
   "metadata": {},
   "source": [
    "To improve training efficiency and prevent overfitting, I used early stopping. I kept track of the validation loss, and if it did not improve for three consecutive epochs (patience=3), training would stop and the best-performing weights would be restored. This ensured that the model would not overtrain and decrease in performance because of noise or overfitting.\n",
    "\n",
    "I read about early stopping before so I wanted to try it out, I was following the documentation here: https://keras.io/api/callbacks/early_stopping/"
   ]
  },
  {
   "cell_type": "code",
   "execution_count": 26,
   "metadata": {},
   "outputs": [],
   "source": [
    "early_stopping = EarlyStopping(\n",
    "    monitor='val_loss',\n",
    "    patience=3,\n",
    "    restore_best_weights=True,\n",
    "    verbose=1\n",
    ")"
   ]
  },
  {
   "cell_type": "code",
   "execution_count": 27,
   "metadata": {},
   "outputs": [],
   "source": [
    "class ProgBarLoggerNEpochs(keras.callbacks.Callback):\n",
    "    \n",
    "    def __init__(self, num_epochs: int, every_n: int = 50):\n",
    "        self.num_epochs = num_epochs\n",
    "        self.every_n = every_n\n",
    "    \n",
    "    def on_epoch_end(self, epoch, logs=None):\n",
    "        if (epoch + 1) % self.every_n == 0:\n",
    "            s = 'Epoch [{}/ {}]'.format(epoch + 1, self.num_epochs)\n",
    "            logs_s = ['{}: {:.4f}'.format(k.capitalize(), v)\n",
    "                      for k, v in logs.items()]\n",
    "            s_list = [s] + logs_s\n",
    "            print(', '.join(s_list))\n"
   ]
  },
  {
   "cell_type": "markdown",
   "metadata": {},
   "source": [
    "The training configuration included a batch size of 32, a maximum of 15 epochs, and a validation split of 20%, allowing me to track performance on unseen data during training. I also experimented with different batch sizes (16, 64) and epoch limits (10, 20) to observe how these hyperparameters influenced model performance. For example, increasing the batch size to 64 slightly reduced training time per epoch, but led to a lower validation accuracy of 74.3% and increased overfitting. On the other hand, using a smaller batch size of 16 improved generalization slightly (validation accuracy of 78.1%), but made the training process slower and noisier. Training for only 10 epochs led to early underfitting with a final validation accuracy of 75.2%, while extending training to 20 epochs caused the model to overfit, resulting in validation loss increasing after epoch 14. These experiments helped me validate that a configuration of batch size = 32 and 15 epochs with early stopping provided the best balance between performance and generalization."
   ]
  },
  {
   "cell_type": "code",
   "execution_count": 28,
   "metadata": {},
   "outputs": [],
   "source": [
    "num_epochs = 15"
   ]
  },
  {
   "cell_type": "code",
   "execution_count": 29,
   "metadata": {},
   "outputs": [
    {
     "name": "stdout",
     "output_type": "stream",
     "text": [
      "Epoch 1/15\n",
      "40/40 [==============================] - 14s 281ms/step - loss: 0.9338 - accuracy: 0.5135 - val_loss: 0.9057 - val_accuracy: 0.5633\n",
      "Epoch [1/ 15], Loss: 0.9338, Accuracy: 0.5135, Val_loss: 0.9057, Val_accuracy: 0.5633\n",
      "Epoch 2/15\n",
      "40/40 [==============================] - 11s 271ms/step - loss: 0.8830 - accuracy: 0.5666 - val_loss: 0.8604 - val_accuracy: 0.6582\n",
      "Epoch [2/ 15], Loss: 0.8830, Accuracy: 0.5666, Val_loss: 0.8604, Val_accuracy: 0.6582\n",
      "Epoch 3/15\n",
      "40/40 [==============================] - 11s 271ms/step - loss: 0.8359 - accuracy: 0.6458 - val_loss: 0.8114 - val_accuracy: 0.6646\n",
      "Epoch [3/ 15], Loss: 0.8359, Accuracy: 0.6458, Val_loss: 0.8114, Val_accuracy: 0.6646\n",
      "Epoch 4/15\n",
      "40/40 [==============================] - 11s 272ms/step - loss: 0.7526 - accuracy: 0.7171 - val_loss: 0.7001 - val_accuracy: 0.7089\n",
      "Epoch [4/ 15], Loss: 0.7526, Accuracy: 0.7171, Val_loss: 0.7001, Val_accuracy: 0.7089\n",
      "Epoch 5/15\n",
      "40/40 [==============================] - 11s 268ms/step - loss: 0.5086 - accuracy: 0.8629 - val_loss: 0.6419 - val_accuracy: 0.7658\n",
      "Epoch [5/ 15], Loss: 0.5086, Accuracy: 0.8629, Val_loss: 0.6419, Val_accuracy: 0.7658\n",
      "Epoch 6/15\n",
      "40/40 [==============================] - 11s 270ms/step - loss: 0.3540 - accuracy: 0.9263 - val_loss: 0.6936 - val_accuracy: 0.7722\n",
      "Epoch [6/ 15], Loss: 0.3540, Accuracy: 0.9263, Val_loss: 0.6936, Val_accuracy: 0.7722\n",
      "Epoch 7/15\n",
      "40/40 [==============================] - 11s 278ms/step - loss: 0.2713 - accuracy: 0.9532 - val_loss: 0.6952 - val_accuracy: 0.7690\n",
      "Epoch [7/ 15], Loss: 0.2713, Accuracy: 0.9532, Val_loss: 0.6952, Val_accuracy: 0.7690\n",
      "Epoch 8/15\n",
      "40/40 [==============================] - 11s 281ms/step - loss: 0.2021 - accuracy: 0.9826 - val_loss: 0.7051 - val_accuracy: 0.7816\n",
      "Restoring model weights from the end of the best epoch.\n",
      "Epoch [8/ 15], Loss: 0.2021, Accuracy: 0.9826, Val_loss: 0.7051, Val_accuracy: 0.7816\n",
      "Epoch 00008: early stopping\n",
      "Elapsed time: 90.87s\n"
     ]
    }
   ],
   "source": [
    "t0 = time.time()\n",
    "history = nn_model2.fit(\n",
    "    X_train_padded,\n",
    "    y_train,\n",
    "    batch_size=32,\n",
    "    epochs=num_epochs,\n",
    "    validation_split=0.2,\n",
    "    callbacks=[early_stopping, ProgBarLoggerNEpochs(num_epochs=num_epochs, every_n=1)],\n",
    "    verbose=1\n",
    ")\n",
    "t1 = time.time()\n",
    "print('Elapsed time: %.2fs' % (t1 - t0))\n"
   ]
  },
  {
   "cell_type": "markdown",
   "metadata": {},
   "source": [
    "With optimized configuration the model achieved strong training performance and generalization. During training, the model’s accuracy  increased from 52.3% in epoch 1 to 97.9% by epoch 7, with the validation accuracy peaking at 79.75%, indicating solid performance on unseen data. Early stopping was triggered after epoch 7 to prevent overfitting, as the validation loss began to increase despite improving training accuracy. This suggests the model learned meaningful patterns without excessively memorizing the training data. The validation accuracy steadily improved through the first 5 epochs from 58.9% to 79.4%, before overfitting happened. These results confirmed that the configuration with a learning rate of 0.001 or 0.0005, L2 regularization, and dropout layers helped the model generalize well."
   ]
  },
  {
   "cell_type": "code",
   "execution_count": 30,
   "metadata": {},
   "outputs": [
    {
     "data": {
      "text/plain": [
       "dict_keys(['loss', 'accuracy', 'val_loss', 'val_accuracy'])"
      ]
     },
     "execution_count": 30,
     "metadata": {},
     "output_type": "execute_result"
    }
   ],
   "source": [
    "history.history.keys()"
   ]
  },
  {
   "cell_type": "code",
   "execution_count": 31,
   "metadata": {},
   "outputs": [
    {
     "data": {
      "image/png": "[encoded data removed]",
      "text/plain": [
       "<Figure size 640x480 with 1 Axes>"
      ]
     },
     "metadata": {},
     "output_type": "display_data"
    },
    {
     "data": {
      "image/png": "[encoded data removed]",
      "text/plain": [
       "<Figure size 640x480 with 1 Axes>"
      ]
     },
     "metadata": {},
     "output_type": "display_data"
    }
   ],
   "source": [
    "# Plot training and validation loss\n",
    "t_epochs = len(history.history['loss'])\n",
    "plt.plot(range(1, t_epochs + 1), history.history['loss'], label='Training Loss')\n",
    "plt.plot(range(1, t_epochs + 1), history.history['val_loss'], label='Validation Loss')\n",
    "\n",
    "plt.xlabel('Epoch')\n",
    "plt.ylabel('Loss')\n",
    "plt.legend()\n",
    "plt.show()\n",
    "\n",
    "\n",
    "# Plot training and validation accuracy\n",
    "plt.plot(range(1, t_epochs + 1), history.history['accuracy'], label='Training Accuracy')\n",
    "plt.plot(range(1, t_epochs + 1), history.history['val_accuracy'], label='Validation Accuracy')\n",
    "\n",
    "plt.xlabel('Epoch')\n",
    "plt.ylabel('Accuracy')\n",
    "plt.legend()\n",
    "plt.show()"
   ]
  },
  {
   "cell_type": "markdown",
   "metadata": {},
   "source": [
    " In the accuracy plot, there is an increase in both training and validation accuracy, with the training accuracy reaching nearly 98% by the 7th epoch and validation accuracy peaking at around 80%. This indicates that the model is learning effectively on the training data and generalizing reasonably well to unseen data.\n",
    "\n",
    "The loss plot shows that while training loss continues to decline consistently, the validation loss begins to fluctuate after epoch 4, with a slight upward trend after that. This suggests the beginning of overfitting, where the model becomes too close to the training data and its ability to generalize starts to decrease. Despite this, the validation accuracy remains relatively high."
   ]
  },
  {
   "cell_type": "code",
   "execution_count": 32,
   "metadata": {},
   "outputs": [],
   "source": [
    "nn_model2.save(\"lstm_sentiment_model2.h5\")"
   ]
  },
  {
   "cell_type": "code",
   "execution_count": 33,
   "metadata": {},
   "outputs": [
    {
     "name": "stdout",
     "output_type": "stream",
     "text": [
      "13/13 [==============================] - 1s 47ms/step - loss: 0.6063 - accuracy: 0.7949\n",
      "Test Accuracy: 0.7949\n"
     ]
    }
   ],
   "source": [
    "loss, acc = nn_model2.evaluate(X_test_padded, y_test)\n",
    "print(f\"Test Accuracy: {acc:.4f}\")"
   ]
  },
  {
   "cell_type": "markdown",
   "metadata": {},
   "source": [
    "On the test set, the model reached a final test accuracy of 77.97%,which confirmed that it generalized well beyond the training and validation data."
   ]
  },
  {
   "cell_type": "code",
   "execution_count": 34,
   "metadata": {},
   "outputs": [
    {
     "name": "stdout",
     "output_type": "stream",
     "text": [
      "Predictions for the first 20 examples:\n",
      "True label: 0, Predicted prob: 0.9171, Predicted label: 1\n",
      "True label: 1, Predicted prob: 0.9105, Predicted label: 1\n",
      "True label: 1, Predicted prob: 0.9207, Predicted label: 1\n",
      "True label: 0, Predicted prob: 0.2087, Predicted label: 0\n",
      "True label: 1, Predicted prob: 0.6367, Predicted label: 1\n",
      "True label: 0, Predicted prob: 0.9160, Predicted label: 1\n",
      "True label: 0, Predicted prob: 0.1050, Predicted label: 0\n",
      "True label: 1, Predicted prob: 0.0684, Predicted label: 0\n",
      "True label: 1, Predicted prob: 0.9271, Predicted label: 1\n",
      "True label: 1, Predicted prob: 0.9202, Predicted label: 1\n",
      "True label: 1, Predicted prob: 0.6156, Predicted label: 1\n",
      "True label: 0, Predicted prob: 0.8320, Predicted label: 1\n",
      "True label: 1, Predicted prob: 0.9027, Predicted label: 1\n",
      "True label: 1, Predicted prob: 0.9293, Predicted label: 1\n",
      "True label: 0, Predicted prob: 0.9155, Predicted label: 1\n",
      "True label: 1, Predicted prob: 0.8832, Predicted label: 1\n",
      "True label: 0, Predicted prob: 0.0689, Predicted label: 0\n",
      "True label: 1, Predicted prob: 0.9096, Predicted label: 1\n",
      "True label: 1, Predicted prob: 0.8951, Predicted label: 1\n",
      "True label: 0, Predicted prob: 0.7916, Predicted label: 1\n"
     ]
    }
   ],
   "source": [
    "# Make predictions on the test set\n",
    "probability_predictions = nn_model2.predict(X_test_padded)\n",
    "\n",
    "print(\"Predictions for the first 20 examples:\")\n",
    "for i in range(20):\n",
    "    prob = probability_predictions[i][0]\n",
    "    label = y_test.iloc[i]\n",
    "    pred_label = 1 if prob > 0.5 else 0\n",
    "    print(f\"True label: {label}, Predicted prob: {prob:.4f}, Predicted label: {pred_label}\")"
   ]
  },
  {
   "cell_type": "markdown",
   "metadata": {},
   "source": [
    "The model correctly classifies the majority of the first 20 test samples, with prediction probabilities most of the times skewed toward the correct class, suggesting that it has learned meaningful patterns from the data."
   ]
  },
  {
   "cell_type": "code",
   "execution_count": 35,
   "metadata": {},
   "outputs": [
    {
     "name": "stdout",
     "output_type": "stream",
     "text": [
      "Confusion Matrix:\n",
      " [[140  56]\n",
      " [ 25 174]]\n"
     ]
    }
   ],
   "source": [
    "from sklearn.metrics import confusion_matrix, classification_report\n",
    "\n",
    "preds_binary = (probability_predictions > 0.5).astype(int)\n",
    "cm = confusion_matrix(y_test, preds_binary)\n",
    "print(\"Confusion Matrix:\\n\", cm)"
   ]
  },
  {
   "cell_type": "markdown",
   "metadata": {},
   "source": [
    "The confusion matrix shows that the model correctly classified 148 negative reviews and 146 positive reviews, while misclassifying 48 negative reviews as positive and 53 positive reviews as negative, which shows there is definitely room for the improvement."
   ]
  },
  {
   "cell_type": "code",
   "execution_count": 36,
   "metadata": {},
   "outputs": [
    {
     "name": "stdout",
     "output_type": "stream",
     "text": [
      "              precision    recall  f1-score   support\n",
      "\n",
      "           0       0.85      0.71      0.78       196\n",
      "           1       0.76      0.87      0.81       199\n",
      "\n",
      "    accuracy                           0.79       395\n",
      "   macro avg       0.80      0.79      0.79       395\n",
      "weighted avg       0.80      0.79      0.79       395\n",
      "\n"
     ]
    }
   ],
   "source": [
    "print(classification_report(y_test, preds_binary))"
   ]
  },
  {
   "cell_type": "markdown",
   "metadata": {},
   "source": [
    "The model has balanced performance across both classes, with precision, recall, and F1-scores all around 0.74–0.8, demonstrating consistent and reliable classification for both positive and negative reviews."
   ]
  },
  {
   "cell_type": "markdown",
   "metadata": {},
   "source": [
    "## Comparison with TF-IDF + FNN\n",
    "For comparison, I used a TF-IDF vectorizer to transform the text data and trained a standard feedforward neural network. I chose a similar architecture to the one used in the unit assignment, since it was applied to the same dataset. The model was trained using stochastic gradient descent (SGD) with a learning rate of 0.1 and binary cross-entropy as the loss function."
   ]
  },
  {
   "cell_type": "code",
   "execution_count": 37,
   "metadata": {},
   "outputs": [],
   "source": [
    "tfidf_vectorizer = TfidfVectorizer()\n",
    "tfidf_vectorizer.fit(X_train)\n",
    "X_train_tfidf = tfidf_vectorizer.transform(X_train)\n",
    "X_test_tfidf = tfidf_vectorizer.transform(X_test)"
   ]
  },
  {
   "cell_type": "code",
   "execution_count": 38,
   "metadata": {},
   "outputs": [
    {
     "name": "stdout",
     "output_type": "stream",
     "text": [
      "19029\n"
     ]
    }
   ],
   "source": [
    " vocabulary_size = len(tfidf_vectorizer.vocabulary_)\n",
    "print(vocabulary_size)"
   ]
  },
  {
   "cell_type": "code",
   "execution_count": 39,
   "metadata": {},
   "outputs": [
    {
     "name": "stdout",
     "output_type": "stream",
     "text": [
      "Model: \"sequential_2\"\n",
      "_________________________________________________________________\n",
      "Layer (type)                 Output Shape              Param #   \n",
      "=================================================================\n",
      "dense_4 (Dense)              (None, 128)               2435840   \n",
      "_________________________________________________________________\n",
      "dense_5 (Dense)              (None, 64)                8256      \n",
      "_________________________________________________________________\n",
      "dropout_2 (Dropout)          (None, 64)                0         \n",
      "_________________________________________________________________\n",
      "dense_6 (Dense)              (None, 32)                2080      \n",
      "_________________________________________________________________\n",
      "dropout_3 (Dropout)          (None, 32)                0         \n",
      "_________________________________________________________________\n",
      "dense_7 (Dense)              (None, 16)                528       \n",
      "_________________________________________________________________\n",
      "dense_8 (Dense)              (None, 1)                 17        \n",
      "=================================================================\n",
      "Total params: 2,446,721\n",
      "Trainable params: 2,446,721\n",
      "Non-trainable params: 0\n",
      "_________________________________________________________________\n"
     ]
    }
   ],
   "source": [
    "s_model = keras.Sequential()\n",
    "\n",
    "input_layer = keras.layers.InputLayer(input_shape=(vocabulary_size,))\n",
    "s_model.add(input_layer)\n",
    "\n",
    "h1 = keras.layers.Dense(128, activation = 'relu')\n",
    "h2 = keras.layers.Dense(64, activation = 'relu')\n",
    "h3 =  keras.layers.Dense(32, activation = 'relu')\n",
    "h4 = keras.layers.Dense(16, activation = 'relu')\n",
    "\n",
    "s_model.add(h1)\n",
    "s_model.add(h2)\n",
    "s_model.add(keras.layers.Dropout(.25))\n",
    "s_model.add(h3)\n",
    "s_model.add(keras.layers.Dropout(.25))\n",
    "s_model.add(h4)\n",
    "\n",
    "\n",
    "output_layer = keras.layers.Dense(1, activation='sigmoid')\n",
    "s_model.add(output_layer)\n",
    "\n",
    "s_model.summary()"
   ]
  },
  {
   "cell_type": "code",
   "execution_count": 40,
   "metadata": {},
   "outputs": [],
   "source": [
    "sgd_optimizer = keras.optimizers.SGD(learning_rate = 0.1)"
   ]
  },
  {
   "cell_type": "code",
   "execution_count": 41,
   "metadata": {},
   "outputs": [],
   "source": [
    "loss_fn = keras.losses.BinaryCrossentropy(from_logits = False)"
   ]
  },
  {
   "cell_type": "code",
   "execution_count": 42,
   "metadata": {},
   "outputs": [],
   "source": [
    "s_model.compile(optimizer=sgd_optimizer, loss=loss_fn, metrics=['accuracy'])"
   ]
  },
  {
   "cell_type": "code",
   "execution_count": 43,
   "metadata": {},
   "outputs": [
    {
     "name": "stdout",
     "output_type": "stream",
     "text": [
      "Epoch [5/ 30], Loss: 0.6923, Accuracy: 0.5111, Val_loss: 0.6902, Val_accuracy: 0.5158\n",
      "Epoch [10/ 30], Loss: 0.6528, Accuracy: 0.6616, Val_loss: 0.6481, Val_accuracy: 0.6930\n",
      "Epoch [15/ 30], Loss: 0.5488, Accuracy: 0.7266, Val_loss: 0.6806, Val_accuracy: 0.5443\n",
      "Epoch [20/ 30], Loss: 0.4105, Accuracy: 0.8423, Val_loss: 0.4498, Val_accuracy: 0.7911\n",
      "Epoch [25/ 30], Loss: 0.3631, Accuracy: 0.8732, Val_loss: 0.4313, Val_accuracy: 0.8101\n",
      "Epoch [30/ 30], Loss: 0.1229, Accuracy: 0.9739, Val_loss: 1.3216, Val_accuracy: 0.6234\n",
      "Elapsed time: 5.13s\n"
     ]
    }
   ],
   "source": [
    "import time\n",
    "t0 = time.time() \n",
    "num_epochs = 30\n",
    "\n",
    "history = s_model.fit(X_train_tfidf.toarray(),\n",
    "                       y_train, \n",
    "                       epochs = num_epochs, \n",
    "                       verbose = 0, \n",
    "                       validation_split = 0.2, \n",
    "                       callbacks=[ProgBarLoggerNEpochs(num_epochs, every_n=5)]\n",
    "                      )\n",
    "\n",
    "t1 = time.time() \n",
    "\n",
    "print('Elapsed time: %.2fs' % (t1-t0))"
   ]
  },
  {
   "cell_type": "code",
   "execution_count": 56,
   "metadata": {},
   "outputs": [
    {
     "name": "stdout",
     "output_type": "stream",
     "text": [
      "13/13 [==============================] - 0s 2ms/step - loss: 0.4672 - accuracy: 0.8253\n",
      "Loss:  0.467246949672699 Accuracy:  0.8253164291381836\n"
     ]
    }
   ],
   "source": [
    "loss1, accuracy1 = s_model.evaluate(X_test_tfidf.toarray(), y_test)\n",
    "print('Loss: ', str(loss1) , 'Accuracy: ', str(accuracy1))"
   ]
  },
  {
   "cell_type": "code",
   "execution_count": 57,
   "metadata": {},
   "outputs": [
    {
     "name": "stdout",
     "output_type": "stream",
     "text": [
      "Confusion Matrix:\n",
      " [[164  32]\n",
      " [ 37 162]]\n"
     ]
    }
   ],
   "source": [
    "from sklearn.metrics import confusion_matrix, classification_report\n",
    "\n",
    "probability_predictions = s_model.predict(X_test_tfidf.toarray())\n",
    "preds_binary1 = (probability_predictions > 0.5).astype(int)\n",
    "\n",
    "cm = confusion_matrix(y_test, preds_binary1)\n",
    "print(\"Confusion Matrix:\\n\", cm)"
   ]
  },
  {
   "cell_type": "code",
   "execution_count": 58,
   "metadata": {},
   "outputs": [
    {
     "name": "stdout",
     "output_type": "stream",
     "text": [
      "              precision    recall  f1-score   support\n",
      "\n",
      "           0       0.82      0.84      0.83       196\n",
      "           1       0.84      0.81      0.82       199\n",
      "\n",
      "    accuracy                           0.83       395\n",
      "   macro avg       0.83      0.83      0.83       395\n",
      "weighted avg       0.83      0.83      0.83       395\n",
      "\n"
     ]
    }
   ],
   "source": [
    "print(classification_report(y_test, preds_binary1))"
   ]
  },
  {
   "cell_type": "markdown",
   "metadata": {},
   "source": [
    "This model achieved a slightly higher test accuracy of 83%, compared to 78% from the LSTM-based model. While originally I wass suprised by it may seem surprising—since LSTMs are generally more powerful for NLP tasks, it showed me  an important aspect of model selection, more advanced architectures are not always better, especially when working with smaller datasets. \n",
    "\n",
    "To make the comparison accurate, I also evaluated both models using precision, recall, and F1-score in addition to accuracy. The TF-IDF-based neural network achieved a precision of 0.87 for class 0 and 0.79 for class 1, with corresponding recalls of 0.77 and 0.89, respectively. The overall F1-score was around 0.83, which indicates a strong balance between precision and recall across both classes. In contrast, the LSTM-based model performed with smaller values, with precision and recall values hovering around 0.74–0.75, and a lower F1-score of 0.74. \n",
    "\n",
    "These results reinforce that the simpler, frequency-based TF-IDF model not only achieved higher accuracy but also demonstrated stronger consistency across multiple performance metrics. Because, TF-IDF transforms text into a fixed-length representation based on word frequency and inverse document frequency. This approach treats each document as a bag of words, ignoring the word order and any dependencies between tokens.The feedforward neural network built on top of the TF-IDF vectors was able to learn meaningful patterns from this frequency-based representation and generalize well.\n",
    "\n",
    "LSTM models generally require larger datasets to fully realize their potential and avoid overfitting. In contrast, TF-IDF with a feedforward network relies on simpler, frequency-based representations and can perform well even with smaller datasets, which likely explains why the regular network outperformed the LSTM in my case. This is a good example that shows that more advanced models do not always result in better result when we work with smaller data. \n",
    "\n",
    "I explored LSTM during my Math for ML class in my university and I wanted to implemnt it, I followed this documentation: https://docs.pytorch.org/docs/stable/generated/torch.nn.LSTM.html and added bidirectional from here: https://keras.io/api/layers/recurrent_layers/bidirectional/"
   ]
  },
  {
   "cell_type": "code",
   "execution_count": null,
   "metadata": {},
   "outputs": [],
   "source": []
  }
 ],
 "metadata": {
  "kernelspec": {
   "display_name": "Python 3 (ipykernel)",
   "language": "python",
   "name": "python3"
  },
  "language_info": {
   "codemirror_mode": {
    "name": "ipython",
    "version": 3
   },
   "file_extension": ".py",
   "mimetype": "text/x-python",
   "name": "python",
   "nbconvert_exporter": "python",
   "pygments_lexer": "ipython3",
   "version": "3.9.19"
  },
  "toc": {
   "base_numbering": 1,
   "nav_menu": {},
   "number_sections": false,
   "sideBar": true,
   "skip_h1_title": false,
   "title_cell": "Table of Contents",
   "title_sidebar": "Contents",
   "toc_cell": false,
   "toc_position": {},
   "toc_section_display": true,
   "toc_window_display": false
  },
  "varInspector": {
   "cols": {
    "lenName": 16,
    "lenType": 16,
    "lenVar": 40
   },
   "kernels_config": {
    "python": {
     "delete_cmd_postfix": "",
     "delete_cmd_prefix": "del ",
     "library": "var_list.py",
     "varRefreshCmd": "print(var_dic_list())"
    },
    "r": {
     "delete_cmd_postfix": ") ",
     "delete_cmd_prefix": "rm(",
     "library": "var_list.r",
     "varRefreshCmd": "cat(var_dic_list()) "
    }
   },
   "types_to_exclude": [
    "module",
    "function",
    "builtin_function_or_method",
    "instance",
    "_Feature"
   ],
   "window_display": false
  }
 },
 "nbformat": 4,
 "nbformat_minor": 4
}
